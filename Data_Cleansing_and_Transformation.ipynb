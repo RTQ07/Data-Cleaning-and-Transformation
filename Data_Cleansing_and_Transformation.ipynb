{
  "nbformat": 4,
  "nbformat_minor": 0,
  "metadata": {
    "colab": {
      "provenance": []
    },
    "kernelspec": {
      "name": "python3",
      "display_name": "Python 3"
    },
    "language_info": {
      "name": "python"
    }
  },
  "cells": [
    {
      "cell_type": "code",
      "execution_count": 32,
      "metadata": {
        "id": "JCBplJy0YswE"
      },
      "outputs": [],
      "source": [
        "# For data manipulation\n",
        "import pandas as pd\n",
        "import numpy as np\n",
        "\n",
        "# For data visualization\n",
        "import matplotlib.pyplot as plt\n",
        "import seaborn as sns"
      ]
    },
    {
      "cell_type": "code",
      "source": [
        "# For statistical modeling/machine learning\n",
        "from sklearn.preprocessing import StandardScaler, OneHotEncoder, LabelEncoder\n",
        "from sklearn.impute import SimpleImputer\n",
        "from sklearn.compose import ColumnTransformer"
      ],
      "metadata": {
        "id": "8uHJmHArgHPB"
      },
      "execution_count": 33,
      "outputs": []
    },
    {
      "cell_type": "code",
      "source": [
        "#importing dataset\n",
        "#!pip install ucimlrepo"
      ],
      "metadata": {
        "colab": {
          "base_uri": "https://localhost:8080/"
        },
        "id": "vLPA1DjmjjIj",
        "outputId": "ec517ba0-6c0c-436e-becf-017ae22a679d"
      },
      "execution_count": 35,
      "outputs": [
        {
          "output_type": "stream",
          "name": "stdout",
          "text": [
            "Requirement already satisfied: ucimlrepo in /usr/local/lib/python3.10/dist-packages (0.0.3)\n"
          ]
        }
      ]
    },
    {
      "cell_type": "code",
      "source": [
        "from ucimlrepo import fetch_ucirepo\n",
        "\n",
        "# fetch dataset\n",
        "bank_marketing = fetch_ucirepo(id=222)\n",
        "\n",
        "# data (as pandas dataframes)\n",
        "X = bank_marketing.data.features\n",
        "y = bank_marketing.data.targets\n",
        "\n",
        "# metadata\n",
        "print(bank_marketing.metadata)\n",
        "\n",
        "# variable information\n",
        "print(bank_marketing.variables)"
      ],
      "metadata": {
        "colab": {
          "base_uri": "https://localhost:8080/"
        },
        "id": "ZnQPJNcDjuyf",
        "outputId": "050cbfab-b5df-4995-df9e-72a7d5e2efda"
      },
      "execution_count": 36,
      "outputs": [
        {
          "output_type": "stream",
          "name": "stdout",
          "text": [
            "{'uci_id': 222, 'name': 'Bank Marketing', 'repository_url': 'https://archive.ics.uci.edu/dataset/222/bank+marketing', 'data_url': 'https://archive.ics.uci.edu/static/public/222/data.csv', 'abstract': 'The data is related with direct marketing campaigns (phone calls) of a Portuguese banking institution. The classification goal is to predict if the client will subscribe a term deposit (variable y).', 'area': 'Business', 'tasks': ['Classification'], 'characteristics': ['Multivariate'], 'num_instances': 45211, 'num_features': 16, 'feature_types': ['Categorical', 'Integer'], 'demographics': ['Age', 'Occupation', 'Marital Status', 'Education Level'], 'target_col': ['y'], 'index_col': None, 'has_missing_values': 'yes', 'missing_values_symbol': 'NaN', 'year_of_dataset_creation': 2014, 'last_updated': 'Fri Aug 18 2023', 'dataset_doi': '10.24432/C5K306', 'creators': ['S. Moro', 'P. Rita', 'P. Cortez'], 'intro_paper': {'title': 'A data-driven approach to predict the success of bank telemarketing', 'authors': 'Sérgio Moro, P. Cortez, P. Rita', 'published_in': 'Decision Support Systems', 'year': 2014, 'url': 'https://www.semanticscholar.org/paper/cab86052882d126d43f72108c6cb41b295cc8a9e', 'doi': '10.1016/j.dss.2014.03.001'}, 'additional_info': {'summary': \"The data is related with direct marketing campaigns of a Portuguese banking institution. The marketing campaigns were based on phone calls. Often, more than one contact to the same client was required, in order to access if the product (bank term deposit) would be ('yes') or not ('no') subscribed. \\n\\nThere are four datasets: \\n1) bank-additional-full.csv with all examples (41188) and 20 inputs, ordered by date (from May 2008 to November 2010), very close to the data analyzed in [Moro et al., 2014]\\n2) bank-additional.csv with 10% of the examples (4119), randomly selected from 1), and 20 inputs.\\n3) bank-full.csv with all examples and 17 inputs, ordered by date (older version of this dataset with less inputs). \\n4) bank.csv with 10% of the examples and 17 inputs, randomly selected from 3 (older version of this dataset with less inputs). \\nThe smallest datasets are provided to test more computationally demanding machine learning algorithms (e.g., SVM). \\n\\nThe classification goal is to predict if the client will subscribe (yes/no) a term deposit (variable y).\", 'purpose': None, 'funded_by': None, 'instances_represent': None, 'recommended_data_splits': None, 'sensitive_data': None, 'preprocessing_description': None, 'variable_info': 'Input variables:\\n   # bank client data:\\n   1 - age (numeric)\\n   2 - job : type of job (categorical: \"admin.\",\"unknown\",\"unemployed\",\"management\",\"housemaid\",\"entrepreneur\",\"student\",\\n                                       \"blue-collar\",\"self-employed\",\"retired\",\"technician\",\"services\") \\n   3 - marital : marital status (categorical: \"married\",\"divorced\",\"single\"; note: \"divorced\" means divorced or widowed)\\n   4 - education (categorical: \"unknown\",\"secondary\",\"primary\",\"tertiary\")\\n   5 - default: has credit in default? (binary: \"yes\",\"no\")\\n   6 - balance: average yearly balance, in euros (numeric) \\n   7 - housing: has housing loan? (binary: \"yes\",\"no\")\\n   8 - loan: has personal loan? (binary: \"yes\",\"no\")\\n   # related with the last contact of the current campaign:\\n   9 - contact: contact communication type (categorical: \"unknown\",\"telephone\",\"cellular\") \\n  10 - day: last contact day of the month (numeric)\\n  11 - month: last contact month of year (categorical: \"jan\", \"feb\", \"mar\", ..., \"nov\", \"dec\")\\n  12 - duration: last contact duration, in seconds (numeric)\\n   # other attributes:\\n  13 - campaign: number of contacts performed during this campaign and for this client (numeric, includes last contact)\\n  14 - pdays: number of days that passed by after the client was last contacted from a previous campaign (numeric, -1 means client was not previously contacted)\\n  15 - previous: number of contacts performed before this campaign and for this client (numeric)\\n  16 - poutcome: outcome of the previous marketing campaign (categorical: \"unknown\",\"other\",\"failure\",\"success\")\\n\\n  Output variable (desired target):\\n  17 - y - has the client subscribed a term deposit? (binary: \"yes\",\"no\")\\n', 'citation': None}}\n",
            "           name     role         type      demographic  \\\n",
            "0           age  Feature      Integer              Age   \n",
            "1           job  Feature  Categorical       Occupation   \n",
            "2       marital  Feature  Categorical   Marital Status   \n",
            "3     education  Feature  Categorical  Education Level   \n",
            "4       default  Feature       Binary             None   \n",
            "5       balance  Feature      Integer             None   \n",
            "6       housing  Feature       Binary             None   \n",
            "7          loan  Feature       Binary             None   \n",
            "8       contact  Feature  Categorical             None   \n",
            "9   day_of_week  Feature         Date             None   \n",
            "10        month  Feature         Date             None   \n",
            "11     duration  Feature      Integer             None   \n",
            "12     campaign  Feature      Integer             None   \n",
            "13        pdays  Feature      Integer             None   \n",
            "14     previous  Feature      Integer             None   \n",
            "15     poutcome  Feature  Categorical             None   \n",
            "16            y   Target       Binary             None   \n",
            "\n",
            "                                          description  units missing_values  \n",
            "0                                                None   None             no  \n",
            "1   type of job (categorical: 'admin.','blue-colla...   None             no  \n",
            "2   marital status (categorical: 'divorced','marri...   None             no  \n",
            "3   (categorical: 'basic.4y','basic.6y','basic.9y'...   None             no  \n",
            "4                              has credit in default?   None             no  \n",
            "5                              average yearly balance  euros             no  \n",
            "6                                   has housing loan?   None             no  \n",
            "7                                  has personal loan?   None             no  \n",
            "8   contact communication type (categorical: 'cell...   None            yes  \n",
            "9                        last contact day of the week   None             no  \n",
            "10  last contact month of year (categorical: 'jan'...   None             no  \n",
            "11   last contact duration, in seconds (numeric). ...   None             no  \n",
            "12  number of contacts performed during this campa...   None             no  \n",
            "13  number of days that passed by after the client...   None            yes  \n",
            "14  number of contacts performed before this campa...   None             no  \n",
            "15  outcome of the previous marketing campaign (ca...   None            yes  \n",
            "16          has the client subscribed a term deposit?   None             no  \n"
          ]
        }
      ]
    },
    {
      "cell_type": "markdown",
      "source": [
        "#Data Cleaning"
      ],
      "metadata": {
        "id": "Yqtd8C60uHye"
      }
    },
    {
      "cell_type": "markdown",
      "source": [
        "Method 1\n"
      ],
      "metadata": {
        "id": "5hidSgz9ubcr"
      }
    },
    {
      "cell_type": "code",
      "source": [
        "\n",
        "# Define strategy for imputing missing numeric values\n",
        "numeric_imputer = SimpleImputer(strategy='median')\n",
        "\n",
        "# Identify numeric columns\n",
        "numeric_cols = X.select_dtypes(include=['int64', 'float64']).columns\n",
        "\n",
        "# Transform the numeric columns\n",
        "X[numeric_cols] = numeric_imputer.fit_transform(X[numeric_cols])\n"
      ],
      "metadata": {
        "colab": {
          "base_uri": "https://localhost:8080/"
        },
        "id": "EnbNn5fUkA6z",
        "outputId": "7f29d729-fcee-4d64-eb8c-0ce23093c22e"
      },
      "execution_count": 37,
      "outputs": [
        {
          "output_type": "stream",
          "name": "stderr",
          "text": [
            "<ipython-input-37-44aed7e3e2e9>:8: SettingWithCopyWarning: \n",
            "A value is trying to be set on a copy of a slice from a DataFrame.\n",
            "Try using .loc[row_indexer,col_indexer] = value instead\n",
            "\n",
            "See the caveats in the documentation: https://pandas.pydata.org/pandas-docs/stable/user_guide/indexing.html#returning-a-view-versus-a-copy\n",
            "  X[numeric_cols] = numeric_imputer.fit_transform(X[numeric_cols])\n"
          ]
        }
      ]
    },
    {
      "cell_type": "code",
      "source": [
        "# Impute missing categorical values with most frequent category\n",
        "cat_cols = X.select_dtypes(include=['object', 'category']).columns\n",
        "for col in cat_cols:\n",
        "    X[col].fillna(X[col].mode()[0], inplace=True)\n",
        "\n",
        "# Confirm missing values were removed\n",
        "print(X.isnull().sum())"
      ],
      "metadata": {
        "colab": {
          "base_uri": "https://localhost:8080/"
        },
        "id": "3OibShSanMoY",
        "outputId": "2073be59-8056-4bfb-a2bb-56c29665e3f8"
      },
      "execution_count": 38,
      "outputs": [
        {
          "output_type": "stream",
          "name": "stdout",
          "text": [
            "age            0\n",
            "job            0\n",
            "marital        0\n",
            "education      0\n",
            "default        0\n",
            "balance        0\n",
            "housing        0\n",
            "loan           0\n",
            "contact        0\n",
            "day_of_week    0\n",
            "month          0\n",
            "duration       0\n",
            "campaign       0\n",
            "pdays          0\n",
            "previous       0\n",
            "poutcome       0\n",
            "dtype: int64\n"
          ]
        },
        {
          "output_type": "stream",
          "name": "stderr",
          "text": [
            "<ipython-input-38-3fd548403961>:4: SettingWithCopyWarning: \n",
            "A value is trying to be set on a copy of a slice from a DataFrame\n",
            "\n",
            "See the caveats in the documentation: https://pandas.pydata.org/pandas-docs/stable/user_guide/indexing.html#returning-a-view-versus-a-copy\n",
            "  X[col].fillna(X[col].mode()[0], inplace=True)\n",
            "<ipython-input-38-3fd548403961>:4: SettingWithCopyWarning: \n",
            "A value is trying to be set on a copy of a slice from a DataFrame\n",
            "\n",
            "See the caveats in the documentation: https://pandas.pydata.org/pandas-docs/stable/user_guide/indexing.html#returning-a-view-versus-a-copy\n",
            "  X[col].fillna(X[col].mode()[0], inplace=True)\n",
            "<ipython-input-38-3fd548403961>:4: SettingWithCopyWarning: \n",
            "A value is trying to be set on a copy of a slice from a DataFrame\n",
            "\n",
            "See the caveats in the documentation: https://pandas.pydata.org/pandas-docs/stable/user_guide/indexing.html#returning-a-view-versus-a-copy\n",
            "  X[col].fillna(X[col].mode()[0], inplace=True)\n",
            "<ipython-input-38-3fd548403961>:4: SettingWithCopyWarning: \n",
            "A value is trying to be set on a copy of a slice from a DataFrame\n",
            "\n",
            "See the caveats in the documentation: https://pandas.pydata.org/pandas-docs/stable/user_guide/indexing.html#returning-a-view-versus-a-copy\n",
            "  X[col].fillna(X[col].mode()[0], inplace=True)\n",
            "<ipython-input-38-3fd548403961>:4: SettingWithCopyWarning: \n",
            "A value is trying to be set on a copy of a slice from a DataFrame\n",
            "\n",
            "See the caveats in the documentation: https://pandas.pydata.org/pandas-docs/stable/user_guide/indexing.html#returning-a-view-versus-a-copy\n",
            "  X[col].fillna(X[col].mode()[0], inplace=True)\n",
            "<ipython-input-38-3fd548403961>:4: SettingWithCopyWarning: \n",
            "A value is trying to be set on a copy of a slice from a DataFrame\n",
            "\n",
            "See the caveats in the documentation: https://pandas.pydata.org/pandas-docs/stable/user_guide/indexing.html#returning-a-view-versus-a-copy\n",
            "  X[col].fillna(X[col].mode()[0], inplace=True)\n",
            "<ipython-input-38-3fd548403961>:4: SettingWithCopyWarning: \n",
            "A value is trying to be set on a copy of a slice from a DataFrame\n",
            "\n",
            "See the caveats in the documentation: https://pandas.pydata.org/pandas-docs/stable/user_guide/indexing.html#returning-a-view-versus-a-copy\n",
            "  X[col].fillna(X[col].mode()[0], inplace=True)\n",
            "<ipython-input-38-3fd548403961>:4: SettingWithCopyWarning: \n",
            "A value is trying to be set on a copy of a slice from a DataFrame\n",
            "\n",
            "See the caveats in the documentation: https://pandas.pydata.org/pandas-docs/stable/user_guide/indexing.html#returning-a-view-versus-a-copy\n",
            "  X[col].fillna(X[col].mode()[0], inplace=True)\n",
            "<ipython-input-38-3fd548403961>:4: SettingWithCopyWarning: \n",
            "A value is trying to be set on a copy of a slice from a DataFrame\n",
            "\n",
            "See the caveats in the documentation: https://pandas.pydata.org/pandas-docs/stable/user_guide/indexing.html#returning-a-view-versus-a-copy\n",
            "  X[col].fillna(X[col].mode()[0], inplace=True)\n"
          ]
        }
      ]
    },
    {
      "cell_type": "markdown",
      "source": [
        "Method 2"
      ],
      "metadata": {
        "id": "Rq7x5xOoud1_"
      }
    },
    {
      "cell_type": "code",
      "source": [
        "from sklearn.datasets import fetch_openml\n",
        "import pandas as pd\n",
        "\n",
        "# Load the bank_marketing dataset\n",
        "bank_marketing = fetch_openml(data_id=222, as_frame=True)\n",
        "\n",
        "# Extract the DataFrame from the Bunch object\n",
        "df = bank_marketing.frame\n",
        "\n",
        "# Identify missing values\n",
        "missing_values = df.isnull().sum()\n",
        "\n",
        "# Display missing values\n",
        "print(\"Missing Values:\\n\", missing_values)\n",
        "\n",
        "# Clean missing values\n",
        "df_cleaned = df.dropna()  # Drop rows with missing values\n",
        "\n",
        "# Verify that missing values have been handled\n",
        "cleaned_missing_values = df_cleaned.isnull().sum()\n",
        "print(\"\\nMissing Values in Cleaned Data:\\n\", cleaned_missing_values)"
      ],
      "metadata": {
        "colab": {
          "base_uri": "https://localhost:8080/"
        },
        "id": "9XXqJsy_ufmS",
        "outputId": "eadbabc2-5e26-4e00-9a78-0153ce5d28e4"
      },
      "execution_count": 30,
      "outputs": [
        {
          "output_type": "stream",
          "name": "stderr",
          "text": [
            "/usr/local/lib/python3.10/dist-packages/sklearn/datasets/_openml.py:968: FutureWarning: The default value of `parser` will change from `'liac-arff'` to `'auto'` in 1.4. You can set `parser='auto'` to silence this warning. Therefore, an `ImportError` will be raised from 1.4 if the dataset is dense and pandas is not installed. Note that the pandas parser may return different data types. See the Notes Section in fetch_openml's API doc for details.\n",
            "  warn(\n"
          ]
        },
        {
          "output_type": "stream",
          "name": "stdout",
          "text": [
            "Missing Values:\n",
            " still_alive     0\n",
            "age             5\n",
            "pericardial     0\n",
            "fractional      7\n",
            "epss           14\n",
            "lvdd           10\n",
            "wall_score      3\n",
            "wall_index      1\n",
            "alive_at_1     57\n",
            "class           0\n",
            "dtype: int64\n",
            "\n",
            "Missing Values in Cleaned Data:\n",
            " still_alive    0\n",
            "age            0\n",
            "pericardial    0\n",
            "fractional     0\n",
            "epss           0\n",
            "lvdd           0\n",
            "wall_score     0\n",
            "wall_index     0\n",
            "alive_at_1     0\n",
            "class          0\n",
            "dtype: int64\n"
          ]
        }
      ]
    },
    {
      "cell_type": "markdown",
      "source": [
        "#Identifying Outliers"
      ],
      "metadata": {
        "id": "R_r9B1ErqC6C"
      }
    },
    {
      "cell_type": "markdown",
      "source": [
        "Method 1"
      ],
      "metadata": {
        "id": "EuUo3kYPvyqe"
      }
    },
    {
      "cell_type": "code",
      "source": [
        "from scipy import stats\n",
        "\n",
        "# Identify numeric columns\n",
        "num_cols = X.select_dtypes(include=['int', 'float']).columns\n",
        "\n",
        "# Function to calculate z-scores\n",
        "def z_score(col):\n",
        "    z = np.abs(stats.zscore(col))\n",
        "    return pd.Series(z, index=col.index)\n",
        "\n",
        "# Apply z-score function column-wise\n",
        "X[num_cols] = X[num_cols].apply(z_score)\n",
        "\n",
        "# Threshold and view outliers\n",
        "outliers_count = (X[num_cols] > 3).sum()\n",
        "print(outliers_count)\n",
        "\n",
        "# Handle/clip outliers\n",
        "X[num_cols] = X[num_cols].clip(upper=3)\n",
        "\n",
        "# Remove flagged outliers\n",
        "X = X[X[num_cols] < 3]\n",
        "\n",
        "# Applying z-score function column-wise again after removing outliers\n",
        "X[num_cols] = X[num_cols].apply(z_score)\n",
        "\n",
        "# Threshold and view outliers again\n",
        "outliers_count_after = (X[num_cols] > 3).sum()\n",
        "print(outliers_count_after)"
      ],
      "metadata": {
        "colab": {
          "base_uri": "https://localhost:8080/"
        },
        "id": "C7QVQWken6aG",
        "outputId": "36d30d0c-9e59-4641-b8bf-dd64aa3e10c7"
      },
      "execution_count": 29,
      "outputs": [
        {
          "output_type": "stream",
          "name": "stdout",
          "text": [
            "age             381\n",
            "balance         745\n",
            "day_of_week       0\n",
            "duration        963\n",
            "campaign        840\n",
            "pdays          1723\n",
            "previous        582\n",
            "dtype: int64\n",
            "age            0\n",
            "balance        0\n",
            "day_of_week    0\n",
            "duration       0\n",
            "campaign       0\n",
            "pdays          0\n",
            "previous       0\n",
            "dtype: int64\n"
          ]
        },
        {
          "output_type": "stream",
          "name": "stderr",
          "text": [
            "<ipython-input-29-0268b8fbf131>:12: SettingWithCopyWarning: \n",
            "A value is trying to be set on a copy of a slice from a DataFrame.\n",
            "Try using .loc[row_indexer,col_indexer] = value instead\n",
            "\n",
            "See the caveats in the documentation: https://pandas.pydata.org/pandas-docs/stable/user_guide/indexing.html#returning-a-view-versus-a-copy\n",
            "  X[num_cols] = X[num_cols].apply(z_score)\n",
            "<ipython-input-29-0268b8fbf131>:19: SettingWithCopyWarning: \n",
            "A value is trying to be set on a copy of a slice from a DataFrame.\n",
            "Try using .loc[row_indexer,col_indexer] = value instead\n",
            "\n",
            "See the caveats in the documentation: https://pandas.pydata.org/pandas-docs/stable/user_guide/indexing.html#returning-a-view-versus-a-copy\n",
            "  X[num_cols] = X[num_cols].clip(upper=3)\n"
          ]
        }
      ]
    },
    {
      "cell_type": "markdown",
      "source": [
        "Method 2"
      ],
      "metadata": {
        "id": "KsbS8r-ZwKPf"
      }
    },
    {
      "cell_type": "code",
      "source": [
        "# Identify numeric columns\n",
        "num_cols = X.select_dtypes(include=['int', 'float']).columns\n",
        "\n",
        "# Function to calculate the IQR and identify outliers\n",
        "def remove_outliers_iqr(col):\n",
        "    Q1 = col.quantile(0.25)\n",
        "    Q3 = col.quantile(0.75)\n",
        "    IQR = Q3 - Q1\n",
        "\n",
        "    # Define the lower and upper bounds for outliers\n",
        "    lower_bound = Q1 - 1.5 * IQR\n",
        "    upper_bound = Q3 + 1.5 * IQR\n",
        "\n",
        "    # Identify and remove outliers\n",
        "    outliers_mask = (col < lower_bound) | (col > upper_bound)\n",
        "    col[outliers_mask] = None  # Set outliers to None or NaN to remove them\n",
        "    return col\n",
        "\n",
        "# Apply IQR-based outlier removal column-wise\n",
        "X[num_cols] = X[num_cols].apply(remove_outliers_iqr)\n",
        "\n",
        "# Check the summary statistics after handling outliers\n",
        "summary_after = X[num_cols].describe()\n",
        "\n",
        "# Display the summary statistics\n",
        "print(\"Summary Statistics After Handling Outliers:\\n\", summary_after)"
      ],
      "metadata": {
        "colab": {
          "base_uri": "https://localhost:8080/"
        },
        "id": "NCj2SWHzqghM",
        "outputId": "df316d32-d0f4-4e8d-f3a4-108f8779262a"
      },
      "execution_count": 39,
      "outputs": [
        {
          "output_type": "stream",
          "name": "stdout",
          "text": [
            "Summary Statistics After Handling Outliers:\n",
            "                 age       balance   day_of_week      duration      campaign  \\\n",
            "count  44724.000000  40482.000000  45211.000000  41976.000000  42147.000000   \n",
            "mean      40.545524    640.636233     15.806419    203.490947      2.129950   \n",
            "std        9.978232    844.435442      8.322476    140.805074      1.315842   \n",
            "min       18.000000  -1944.000000      1.000000      0.000000      1.000000   \n",
            "25%       33.000000     46.000000      8.000000     98.000000      1.000000   \n",
            "50%       39.000000    349.000000     16.000000    167.000000      2.000000   \n",
            "75%       48.000000    980.750000     21.000000    277.000000      3.000000   \n",
            "max       70.000000   3462.000000     31.000000    643.000000      6.000000   \n",
            "\n",
            "         pdays  previous  \n",
            "count  36954.0   36954.0  \n",
            "mean      -1.0       0.0  \n",
            "std        0.0       0.0  \n",
            "min       -1.0       0.0  \n",
            "25%       -1.0       0.0  \n",
            "50%       -1.0       0.0  \n",
            "75%       -1.0       0.0  \n",
            "max       -1.0       0.0  \n"
          ]
        },
        {
          "output_type": "stream",
          "name": "stderr",
          "text": [
            "<ipython-input-39-890a0f363d1c>:20: SettingWithCopyWarning: \n",
            "A value is trying to be set on a copy of a slice from a DataFrame.\n",
            "Try using .loc[row_indexer,col_indexer] = value instead\n",
            "\n",
            "See the caveats in the documentation: https://pandas.pydata.org/pandas-docs/stable/user_guide/indexing.html#returning-a-view-versus-a-copy\n",
            "  X[num_cols] = X[num_cols].apply(remove_outliers_iqr)\n"
          ]
        }
      ]
    }
  ]
}